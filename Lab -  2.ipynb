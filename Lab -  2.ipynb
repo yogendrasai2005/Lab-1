{
 "cells": [
  {
   "cell_type": "code",
   "execution_count": 1,
   "metadata": {},
   "outputs": [],
   "source": [
    "import numpy as np\n",
    "import pandas as pd\n"
   ]
  },
  {
   "cell_type": "markdown",
   "metadata": {},
   "source": [
    "# A1  Q1\n"
   ]
  },
  {
   "cell_type": "code",
   "execution_count": 2,
   "metadata": {},
   "outputs": [
    {
     "data": {
      "text/html": [
       "<div>\n",
       "<style scoped>\n",
       "    .dataframe tbody tr th:only-of-type {\n",
       "        vertical-align: middle;\n",
       "    }\n",
       "\n",
       "    .dataframe tbody tr th {\n",
       "        vertical-align: top;\n",
       "    }\n",
       "\n",
       "    .dataframe thead th {\n",
       "        text-align: right;\n",
       "    }\n",
       "</style>\n",
       "<table border=\"1\" class=\"dataframe\">\n",
       "  <thead>\n",
       "    <tr style=\"text-align: right;\">\n",
       "      <th></th>\n",
       "      <th>Customer</th>\n",
       "      <th>Candies (#)</th>\n",
       "      <th>Mangoes (Kg)</th>\n",
       "      <th>Milk Packets (#)</th>\n",
       "      <th>Payment (Rs)</th>\n",
       "      <th>Unnamed: 5</th>\n",
       "      <th>Unnamed: 6</th>\n",
       "      <th>Unnamed: 7</th>\n",
       "      <th>Unnamed: 8</th>\n",
       "      <th>Unnamed: 9</th>\n",
       "      <th>...</th>\n",
       "      <th>Unnamed: 12</th>\n",
       "      <th>Unnamed: 13</th>\n",
       "      <th>Unnamed: 14</th>\n",
       "      <th>Unnamed: 15</th>\n",
       "      <th>Unnamed: 16</th>\n",
       "      <th>Unnamed: 17</th>\n",
       "      <th>Unnamed: 18</th>\n",
       "      <th>Candy</th>\n",
       "      <th>Mango</th>\n",
       "      <th>Milk</th>\n",
       "    </tr>\n",
       "  </thead>\n",
       "  <tbody>\n",
       "    <tr>\n",
       "      <th>0</th>\n",
       "      <td>C_1</td>\n",
       "      <td>20</td>\n",
       "      <td>6</td>\n",
       "      <td>2</td>\n",
       "      <td>386</td>\n",
       "      <td>NaN</td>\n",
       "      <td>NaN</td>\n",
       "      <td>NaN</td>\n",
       "      <td>NaN</td>\n",
       "      <td>NaN</td>\n",
       "      <td>...</td>\n",
       "      <td>NaN</td>\n",
       "      <td>NaN</td>\n",
       "      <td>NaN</td>\n",
       "      <td>NaN</td>\n",
       "      <td>NaN</td>\n",
       "      <td>NaN</td>\n",
       "      <td>NaN</td>\n",
       "      <td>1.0</td>\n",
       "      <td>55.0</td>\n",
       "      <td>18.0</td>\n",
       "    </tr>\n",
       "    <tr>\n",
       "      <th>1</th>\n",
       "      <td>C_2</td>\n",
       "      <td>16</td>\n",
       "      <td>3</td>\n",
       "      <td>6</td>\n",
       "      <td>289</td>\n",
       "      <td>NaN</td>\n",
       "      <td>NaN</td>\n",
       "      <td>NaN</td>\n",
       "      <td>NaN</td>\n",
       "      <td>NaN</td>\n",
       "      <td>...</td>\n",
       "      <td>NaN</td>\n",
       "      <td>NaN</td>\n",
       "      <td>NaN</td>\n",
       "      <td>NaN</td>\n",
       "      <td>NaN</td>\n",
       "      <td>NaN</td>\n",
       "      <td>NaN</td>\n",
       "      <td>NaN</td>\n",
       "      <td>NaN</td>\n",
       "      <td>NaN</td>\n",
       "    </tr>\n",
       "    <tr>\n",
       "      <th>2</th>\n",
       "      <td>C_3</td>\n",
       "      <td>27</td>\n",
       "      <td>6</td>\n",
       "      <td>2</td>\n",
       "      <td>393</td>\n",
       "      <td>NaN</td>\n",
       "      <td>NaN</td>\n",
       "      <td>NaN</td>\n",
       "      <td>NaN</td>\n",
       "      <td>NaN</td>\n",
       "      <td>...</td>\n",
       "      <td>NaN</td>\n",
       "      <td>NaN</td>\n",
       "      <td>NaN</td>\n",
       "      <td>NaN</td>\n",
       "      <td>NaN</td>\n",
       "      <td>NaN</td>\n",
       "      <td>NaN</td>\n",
       "      <td>NaN</td>\n",
       "      <td>NaN</td>\n",
       "      <td>NaN</td>\n",
       "    </tr>\n",
       "    <tr>\n",
       "      <th>3</th>\n",
       "      <td>C_4</td>\n",
       "      <td>19</td>\n",
       "      <td>1</td>\n",
       "      <td>2</td>\n",
       "      <td>110</td>\n",
       "      <td>NaN</td>\n",
       "      <td>NaN</td>\n",
       "      <td>NaN</td>\n",
       "      <td>NaN</td>\n",
       "      <td>NaN</td>\n",
       "      <td>...</td>\n",
       "      <td>NaN</td>\n",
       "      <td>NaN</td>\n",
       "      <td>NaN</td>\n",
       "      <td>NaN</td>\n",
       "      <td>NaN</td>\n",
       "      <td>NaN</td>\n",
       "      <td>NaN</td>\n",
       "      <td>NaN</td>\n",
       "      <td>NaN</td>\n",
       "      <td>NaN</td>\n",
       "    </tr>\n",
       "    <tr>\n",
       "      <th>4</th>\n",
       "      <td>C_5</td>\n",
       "      <td>24</td>\n",
       "      <td>4</td>\n",
       "      <td>2</td>\n",
       "      <td>280</td>\n",
       "      <td>NaN</td>\n",
       "      <td>NaN</td>\n",
       "      <td>NaN</td>\n",
       "      <td>NaN</td>\n",
       "      <td>NaN</td>\n",
       "      <td>...</td>\n",
       "      <td>NaN</td>\n",
       "      <td>NaN</td>\n",
       "      <td>NaN</td>\n",
       "      <td>NaN</td>\n",
       "      <td>NaN</td>\n",
       "      <td>NaN</td>\n",
       "      <td>NaN</td>\n",
       "      <td>NaN</td>\n",
       "      <td>NaN</td>\n",
       "      <td>NaN</td>\n",
       "    </tr>\n",
       "  </tbody>\n",
       "</table>\n",
       "<p>5 rows × 22 columns</p>\n",
       "</div>"
      ],
      "text/plain": [
       "  Customer  Candies (#)  Mangoes (Kg)  Milk Packets (#)  Payment (Rs)  \\\n",
       "0      C_1           20             6                 2           386   \n",
       "1      C_2           16             3                 6           289   \n",
       "2      C_3           27             6                 2           393   \n",
       "3      C_4           19             1                 2           110   \n",
       "4      C_5           24             4                 2           280   \n",
       "\n",
       "   Unnamed: 5  Unnamed: 6  Unnamed: 7  Unnamed: 8  Unnamed: 9  ...  \\\n",
       "0         NaN         NaN         NaN         NaN         NaN  ...   \n",
       "1         NaN         NaN         NaN         NaN         NaN  ...   \n",
       "2         NaN         NaN         NaN         NaN         NaN  ...   \n",
       "3         NaN         NaN         NaN         NaN         NaN  ...   \n",
       "4         NaN         NaN         NaN         NaN         NaN  ...   \n",
       "\n",
       "   Unnamed: 12  Unnamed: 13  Unnamed: 14  Unnamed: 15  Unnamed: 16  \\\n",
       "0          NaN          NaN          NaN          NaN          NaN   \n",
       "1          NaN          NaN          NaN          NaN          NaN   \n",
       "2          NaN          NaN          NaN          NaN          NaN   \n",
       "3          NaN          NaN          NaN          NaN          NaN   \n",
       "4          NaN          NaN          NaN          NaN          NaN   \n",
       "\n",
       "   Unnamed: 17  Unnamed: 18  Candy  Mango  Milk  \n",
       "0          NaN          NaN    1.0   55.0  18.0  \n",
       "1          NaN          NaN    NaN    NaN   NaN  \n",
       "2          NaN          NaN    NaN    NaN   NaN  \n",
       "3          NaN          NaN    NaN    NaN   NaN  \n",
       "4          NaN          NaN    NaN    NaN   NaN  \n",
       "\n",
       "[5 rows x 22 columns]"
      ]
     },
     "execution_count": 2,
     "metadata": {},
     "output_type": "execute_result"
    }
   ],
   "source": [
    "df=pd.ExcelFile('Lab Session Data.xlsx')\n",
    "df.sheet_names\n",
    "df=pd.read_excel('Lab Session Data.xlsx',sheet_name='Purchase data')\n",
    "df.head()"
   ]
  },
  {
   "cell_type": "code",
   "execution_count": 3,
   "metadata": {},
   "outputs": [
    {
     "name": "stdout",
     "output_type": "stream",
     "text": [
      "   Candies (#)  Mangoes (Kg)  Milk Packets (#)\n",
      "0           20             6                 2\n",
      "1           16             3                 6\n",
      "2           27             6                 2\n",
      "3           19             1                 2\n",
      "4           24             4                 2\n",
      "5           22             1                 5\n",
      "6           15             4                 2\n",
      "7           18             4                 2\n",
      "8           21             1                 4\n",
      "9           16             2                 4\n",
      "   Payment (Rs)\n",
      "0           386\n",
      "1           289\n",
      "2           393\n",
      "3           110\n",
      "4           280\n",
      "5           167\n",
      "6           271\n",
      "7           274\n",
      "8           148\n",
      "9           198\n"
     ]
    }
   ],
   "source": [
    "A=df.iloc[:,1:4]\n",
    "print(A)\n",
    "C=df.iloc[:,4:5]\n",
    "print(C)"
   ]
  },
  {
   "cell_type": "markdown",
   "metadata": {},
   "source": [
    "# Q1\n"
   ]
  },
  {
   "cell_type": "code",
   "execution_count": 4,
   "metadata": {},
   "outputs": [
    {
     "data": {
      "text/plain": [
       "(10, 22)"
      ]
     },
     "execution_count": 4,
     "metadata": {},
     "output_type": "execute_result"
    }
   ],
   "source": [
    "df.shape"
   ]
  },
  {
   "cell_type": "code",
   "execution_count": 5,
   "metadata": {},
   "outputs": [
    {
     "data": {
      "text/plain": [
       "10"
      ]
     },
     "execution_count": 5,
     "metadata": {},
     "output_type": "execute_result"
    }
   ],
   "source": [
    "df.shape[0]"
   ]
  },
  {
   "cell_type": "code",
   "execution_count": 6,
   "metadata": {},
   "outputs": [
    {
     "name": "stdout",
     "output_type": "stream",
     "text": [
      "A's rank 3\n",
      "C's rank 1\n"
     ]
    }
   ],
   "source": [
    "print(\"A's rank\",np.linalg.matrix_rank(A))\n",
    "print(\"C's rank\",np.linalg.matrix_rank(C))"
   ]
  },
  {
   "cell_type": "markdown",
   "metadata": {},
   "source": [
    "# A 2\n"
   ]
  },
  {
   "cell_type": "code",
   "execution_count": 7,
   "metadata": {},
   "outputs": [
    {
     "name": "stdout",
     "output_type": "stream",
     "text": [
      "[[ 1.]\n",
      " [55.]\n",
      " [18.]]\n"
     ]
    }
   ],
   "source": [
    "x=np.linalg.pinv(A)\n",
    "# A(pseudo)=(A^T*A)^-1*A^T\n",
    "# C(pseudo)=(C^T*C)^-1*C^T\n",
    "\n",
    "#  X=A^+ * C\n",
    "z=np.dot(x,C)\n",
    "print(z)"
   ]
  },
  {
   "cell_type": "code",
   "execution_count": null,
   "metadata": {},
   "outputs": [],
   "source": []
  },
  {
   "cell_type": "markdown",
   "metadata": {},
   "source": [
    "# A3"
   ]
  },
  {
   "cell_type": "code",
   "execution_count": 8,
   "metadata": {},
   "outputs": [
    {
     "data": {
      "text/html": [
       "<div>\n",
       "<style scoped>\n",
       "    .dataframe tbody tr th:only-of-type {\n",
       "        vertical-align: middle;\n",
       "    }\n",
       "\n",
       "    .dataframe tbody tr th {\n",
       "        vertical-align: top;\n",
       "    }\n",
       "\n",
       "    .dataframe thead th {\n",
       "        text-align: right;\n",
       "    }\n",
       "</style>\n",
       "<table border=\"1\" class=\"dataframe\">\n",
       "  <thead>\n",
       "    <tr style=\"text-align: right;\">\n",
       "      <th></th>\n",
       "      <th>Customer</th>\n",
       "      <th>Candies (#)</th>\n",
       "      <th>Mangoes (Kg)</th>\n",
       "      <th>Milk Packets (#)</th>\n",
       "      <th>Payment (Rs)</th>\n",
       "      <th>RICH OR POOR</th>\n",
       "    </tr>\n",
       "  </thead>\n",
       "  <tbody>\n",
       "    <tr>\n",
       "      <th>0</th>\n",
       "      <td>C_1</td>\n",
       "      <td>20</td>\n",
       "      <td>6</td>\n",
       "      <td>2</td>\n",
       "      <td>386</td>\n",
       "      <td>RICH</td>\n",
       "    </tr>\n",
       "    <tr>\n",
       "      <th>1</th>\n",
       "      <td>C_2</td>\n",
       "      <td>16</td>\n",
       "      <td>3</td>\n",
       "      <td>6</td>\n",
       "      <td>289</td>\n",
       "      <td>RICH</td>\n",
       "    </tr>\n",
       "    <tr>\n",
       "      <th>2</th>\n",
       "      <td>C_3</td>\n",
       "      <td>27</td>\n",
       "      <td>6</td>\n",
       "      <td>2</td>\n",
       "      <td>393</td>\n",
       "      <td>RICH</td>\n",
       "    </tr>\n",
       "    <tr>\n",
       "      <th>3</th>\n",
       "      <td>C_4</td>\n",
       "      <td>19</td>\n",
       "      <td>1</td>\n",
       "      <td>2</td>\n",
       "      <td>110</td>\n",
       "      <td>POOR</td>\n",
       "    </tr>\n",
       "    <tr>\n",
       "      <th>4</th>\n",
       "      <td>C_5</td>\n",
       "      <td>24</td>\n",
       "      <td>4</td>\n",
       "      <td>2</td>\n",
       "      <td>280</td>\n",
       "      <td>RICH</td>\n",
       "    </tr>\n",
       "    <tr>\n",
       "      <th>5</th>\n",
       "      <td>C_6</td>\n",
       "      <td>22</td>\n",
       "      <td>1</td>\n",
       "      <td>5</td>\n",
       "      <td>167</td>\n",
       "      <td>POOR</td>\n",
       "    </tr>\n",
       "    <tr>\n",
       "      <th>6</th>\n",
       "      <td>C_7</td>\n",
       "      <td>15</td>\n",
       "      <td>4</td>\n",
       "      <td>2</td>\n",
       "      <td>271</td>\n",
       "      <td>RICH</td>\n",
       "    </tr>\n",
       "    <tr>\n",
       "      <th>7</th>\n",
       "      <td>C_8</td>\n",
       "      <td>18</td>\n",
       "      <td>4</td>\n",
       "      <td>2</td>\n",
       "      <td>274</td>\n",
       "      <td>RICH</td>\n",
       "    </tr>\n",
       "    <tr>\n",
       "      <th>8</th>\n",
       "      <td>C_9</td>\n",
       "      <td>21</td>\n",
       "      <td>1</td>\n",
       "      <td>4</td>\n",
       "      <td>148</td>\n",
       "      <td>POOR</td>\n",
       "    </tr>\n",
       "    <tr>\n",
       "      <th>9</th>\n",
       "      <td>C_10</td>\n",
       "      <td>16</td>\n",
       "      <td>2</td>\n",
       "      <td>4</td>\n",
       "      <td>198</td>\n",
       "      <td>POOR</td>\n",
       "    </tr>\n",
       "  </tbody>\n",
       "</table>\n",
       "</div>"
      ],
      "text/plain": [
       "  Customer  Candies (#)  Mangoes (Kg)  Milk Packets (#)  Payment (Rs)  \\\n",
       "0      C_1           20             6                 2           386   \n",
       "1      C_2           16             3                 6           289   \n",
       "2      C_3           27             6                 2           393   \n",
       "3      C_4           19             1                 2           110   \n",
       "4      C_5           24             4                 2           280   \n",
       "5      C_6           22             1                 5           167   \n",
       "6      C_7           15             4                 2           271   \n",
       "7      C_8           18             4                 2           274   \n",
       "8      C_9           21             1                 4           148   \n",
       "9     C_10           16             2                 4           198   \n",
       "\n",
       "  RICH OR POOR  \n",
       "0         RICH  \n",
       "1         RICH  \n",
       "2         RICH  \n",
       "3         POOR  \n",
       "4         RICH  \n",
       "5         POOR  \n",
       "6         RICH  \n",
       "7         RICH  \n",
       "8         POOR  \n",
       "9         POOR  "
      ]
     },
     "execution_count": 8,
     "metadata": {},
     "output_type": "execute_result"
    }
   ],
   "source": [
    "def rich_poor(pay):\n",
    "    if pay>200:\n",
    "        return \"RICH\"\n",
    "    else:\n",
    "        return \"POOR\"\n",
    "df['RICH OR POOR'] = df['Payment (Rs)'].apply(rich_poor)\n",
    "df[['Customer','Candies (#)','Mangoes (Kg)','Milk Packets (#)','Payment (Rs)','RICH OR POOR']]"
   ]
  },
  {
   "cell_type": "markdown",
   "metadata": {},
   "source": [
    "# A4"
   ]
  },
  {
   "cell_type": "code",
   "execution_count": 9,
   "metadata": {},
   "outputs": [
    {
     "data": {
      "text/html": [
       "<div>\n",
       "<style scoped>\n",
       "    .dataframe tbody tr th:only-of-type {\n",
       "        vertical-align: middle;\n",
       "    }\n",
       "\n",
       "    .dataframe tbody tr th {\n",
       "        vertical-align: top;\n",
       "    }\n",
       "\n",
       "    .dataframe thead th {\n",
       "        text-align: right;\n",
       "    }\n",
       "</style>\n",
       "<table border=\"1\" class=\"dataframe\">\n",
       "  <thead>\n",
       "    <tr style=\"text-align: right;\">\n",
       "      <th></th>\n",
       "      <th>Date</th>\n",
       "      <th>Month</th>\n",
       "      <th>Day</th>\n",
       "      <th>Price</th>\n",
       "      <th>Open</th>\n",
       "      <th>High</th>\n",
       "      <th>Low</th>\n",
       "      <th>Volume</th>\n",
       "      <th>Chg%</th>\n",
       "    </tr>\n",
       "  </thead>\n",
       "  <tbody>\n",
       "    <tr>\n",
       "      <th>0</th>\n",
       "      <td>Jun 29, 2021</td>\n",
       "      <td>Jun</td>\n",
       "      <td>Tue</td>\n",
       "      <td>2081.85</td>\n",
       "      <td>2092.00</td>\n",
       "      <td>2126.90</td>\n",
       "      <td>2065.05</td>\n",
       "      <td>1.67M</td>\n",
       "      <td>0.0020</td>\n",
       "    </tr>\n",
       "    <tr>\n",
       "      <th>1</th>\n",
       "      <td>Jun 28, 2021</td>\n",
       "      <td>Jun</td>\n",
       "      <td>Mon</td>\n",
       "      <td>2077.75</td>\n",
       "      <td>2084.00</td>\n",
       "      <td>2112.45</td>\n",
       "      <td>2068.40</td>\n",
       "      <td>707.73K</td>\n",
       "      <td>0.0043</td>\n",
       "    </tr>\n",
       "    <tr>\n",
       "      <th>2</th>\n",
       "      <td>Jun 25, 2021</td>\n",
       "      <td>Jun</td>\n",
       "      <td>Fri</td>\n",
       "      <td>2068.85</td>\n",
       "      <td>2084.35</td>\n",
       "      <td>2088.50</td>\n",
       "      <td>2053.10</td>\n",
       "      <td>475.82K</td>\n",
       "      <td>-0.0020</td>\n",
       "    </tr>\n",
       "    <tr>\n",
       "      <th>3</th>\n",
       "      <td>Jun 24, 2021</td>\n",
       "      <td>Jun</td>\n",
       "      <td>Thu</td>\n",
       "      <td>2072.95</td>\n",
       "      <td>2098.00</td>\n",
       "      <td>2098.00</td>\n",
       "      <td>2066.00</td>\n",
       "      <td>541.51K</td>\n",
       "      <td>-0.0026</td>\n",
       "    </tr>\n",
       "    <tr>\n",
       "      <th>4</th>\n",
       "      <td>Jun 23, 2021</td>\n",
       "      <td>Jun</td>\n",
       "      <td>Wed</td>\n",
       "      <td>2078.25</td>\n",
       "      <td>2102.00</td>\n",
       "      <td>2111.40</td>\n",
       "      <td>2072.00</td>\n",
       "      <td>809.62K</td>\n",
       "      <td>-0.0023</td>\n",
       "    </tr>\n",
       "    <tr>\n",
       "      <th>...</th>\n",
       "      <td>...</td>\n",
       "      <td>...</td>\n",
       "      <td>...</td>\n",
       "      <td>...</td>\n",
       "      <td>...</td>\n",
       "      <td>...</td>\n",
       "      <td>...</td>\n",
       "      <td>...</td>\n",
       "      <td>...</td>\n",
       "    </tr>\n",
       "    <tr>\n",
       "      <th>244</th>\n",
       "      <td>Jul 07, 2020</td>\n",
       "      <td>Jul</td>\n",
       "      <td>Tue</td>\n",
       "      <td>1397.40</td>\n",
       "      <td>1410.00</td>\n",
       "      <td>1411.00</td>\n",
       "      <td>1390.05</td>\n",
       "      <td>480.21K</td>\n",
       "      <td>-0.0024</td>\n",
       "    </tr>\n",
       "    <tr>\n",
       "      <th>245</th>\n",
       "      <td>Jul 06, 2020</td>\n",
       "      <td>Jul</td>\n",
       "      <td>Mon</td>\n",
       "      <td>1400.75</td>\n",
       "      <td>1405.50</td>\n",
       "      <td>1415.50</td>\n",
       "      <td>1394.00</td>\n",
       "      <td>614.93K</td>\n",
       "      <td>-0.0031</td>\n",
       "    </tr>\n",
       "    <tr>\n",
       "      <th>246</th>\n",
       "      <td>Jul 03, 2020</td>\n",
       "      <td>Jul</td>\n",
       "      <td>Fri</td>\n",
       "      <td>1405.10</td>\n",
       "      <td>1415.00</td>\n",
       "      <td>1425.00</td>\n",
       "      <td>1398.00</td>\n",
       "      <td>599.49K</td>\n",
       "      <td>-0.0051</td>\n",
       "    </tr>\n",
       "    <tr>\n",
       "      <th>247</th>\n",
       "      <td>Jul 02, 2020</td>\n",
       "      <td>Jul</td>\n",
       "      <td>Thu</td>\n",
       "      <td>1412.35</td>\n",
       "      <td>1440.00</td>\n",
       "      <td>1467.80</td>\n",
       "      <td>1395.30</td>\n",
       "      <td>2.16M</td>\n",
       "      <td>0.0362</td>\n",
       "    </tr>\n",
       "    <tr>\n",
       "      <th>248</th>\n",
       "      <td>Jul 01, 2020</td>\n",
       "      <td>Jul</td>\n",
       "      <td>Wed</td>\n",
       "      <td>1363.05</td>\n",
       "      <td>1363.65</td>\n",
       "      <td>1377.00</td>\n",
       "      <td>1356.00</td>\n",
       "      <td>383.00K</td>\n",
       "      <td>0.0032</td>\n",
       "    </tr>\n",
       "  </tbody>\n",
       "</table>\n",
       "<p>249 rows × 9 columns</p>\n",
       "</div>"
      ],
      "text/plain": [
       "             Date Month  Day    Price     Open     High      Low   Volume  \\\n",
       "0    Jun 29, 2021   Jun  Tue  2081.85  2092.00  2126.90  2065.05    1.67M   \n",
       "1    Jun 28, 2021   Jun  Mon  2077.75  2084.00  2112.45  2068.40  707.73K   \n",
       "2    Jun 25, 2021   Jun  Fri  2068.85  2084.35  2088.50  2053.10  475.82K   \n",
       "3    Jun 24, 2021   Jun  Thu  2072.95  2098.00  2098.00  2066.00  541.51K   \n",
       "4    Jun 23, 2021   Jun  Wed  2078.25  2102.00  2111.40  2072.00  809.62K   \n",
       "..            ...   ...  ...      ...      ...      ...      ...      ...   \n",
       "244  Jul 07, 2020   Jul  Tue  1397.40  1410.00  1411.00  1390.05  480.21K   \n",
       "245  Jul 06, 2020   Jul  Mon  1400.75  1405.50  1415.50  1394.00  614.93K   \n",
       "246  Jul 03, 2020   Jul  Fri  1405.10  1415.00  1425.00  1398.00  599.49K   \n",
       "247  Jul 02, 2020   Jul  Thu  1412.35  1440.00  1467.80  1395.30    2.16M   \n",
       "248  Jul 01, 2020   Jul  Wed  1363.05  1363.65  1377.00  1356.00  383.00K   \n",
       "\n",
       "       Chg%  \n",
       "0    0.0020  \n",
       "1    0.0043  \n",
       "2   -0.0020  \n",
       "3   -0.0026  \n",
       "4   -0.0023  \n",
       "..      ...  \n",
       "244 -0.0024  \n",
       "245 -0.0031  \n",
       "246 -0.0051  \n",
       "247  0.0362  \n",
       "248  0.0032  \n",
       "\n",
       "[249 rows x 9 columns]"
      ]
     },
     "execution_count": 9,
     "metadata": {},
     "output_type": "execute_result"
    }
   ],
   "source": [
    "df1=pd.read_excel(\"Lab Session Data.xlsx\",sheet_name='IRCTC Stock Price')\n",
    "df1\n"
   ]
  },
  {
   "cell_type": "code",
   "execution_count": 10,
   "metadata": {},
   "outputs": [
    {
     "data": {
      "text/plain": [
       "0      2092.00\n",
       "1      2084.00\n",
       "2      2084.35\n",
       "3      2098.00\n",
       "4      2102.00\n",
       "        ...   \n",
       "244    1410.00\n",
       "245    1405.50\n",
       "246    1415.00\n",
       "247    1440.00\n",
       "248    1363.65\n",
       "Name: Open, Length: 249, dtype: float64"
      ]
     },
     "execution_count": 10,
     "metadata": {},
     "output_type": "execute_result"
    }
   ],
   "source": [
    "x=df1.iloc[:,4]\n",
    "x"
   ]
  },
  {
   "cell_type": "code",
   "execution_count": 11,
   "metadata": {},
   "outputs": [
    {
     "name": "stdout",
     "output_type": "stream",
     "text": [
      "mean 1560.9654618473896\n",
      "median 1440.0\n"
     ]
    }
   ],
   "source": [
    "print(\"mean\",x.mean())\n",
    "print(\"median\",x.median())"
   ]
  },
  {
   "cell_type": "code",
   "execution_count": 12,
   "metadata": {},
   "outputs": [
    {
     "data": {
      "text/html": [
       "<div>\n",
       "<style scoped>\n",
       "    .dataframe tbody tr th:only-of-type {\n",
       "        vertical-align: middle;\n",
       "    }\n",
       "\n",
       "    .dataframe tbody tr th {\n",
       "        vertical-align: top;\n",
       "    }\n",
       "\n",
       "    .dataframe thead th {\n",
       "        text-align: right;\n",
       "    }\n",
       "</style>\n",
       "<table border=\"1\" class=\"dataframe\">\n",
       "  <thead>\n",
       "    <tr style=\"text-align: right;\">\n",
       "      <th></th>\n",
       "      <th>Date</th>\n",
       "      <th>Month</th>\n",
       "      <th>Day</th>\n",
       "      <th>Price</th>\n",
       "      <th>Open</th>\n",
       "      <th>High</th>\n",
       "      <th>Low</th>\n",
       "      <th>Volume</th>\n",
       "      <th>Chg%</th>\n",
       "    </tr>\n",
       "  </thead>\n",
       "  <tbody>\n",
       "    <tr>\n",
       "      <th>0</th>\n",
       "      <td>Jun 29, 2021</td>\n",
       "      <td>Jun</td>\n",
       "      <td>Tue</td>\n",
       "      <td>2081.85</td>\n",
       "      <td>2092.00</td>\n",
       "      <td>2126.90</td>\n",
       "      <td>2065.05</td>\n",
       "      <td>1.67M</td>\n",
       "      <td>0.0020</td>\n",
       "    </tr>\n",
       "    <tr>\n",
       "      <th>1</th>\n",
       "      <td>Jun 28, 2021</td>\n",
       "      <td>Jun</td>\n",
       "      <td>Mon</td>\n",
       "      <td>2077.75</td>\n",
       "      <td>2084.00</td>\n",
       "      <td>2112.45</td>\n",
       "      <td>2068.40</td>\n",
       "      <td>707.73K</td>\n",
       "      <td>0.0043</td>\n",
       "    </tr>\n",
       "    <tr>\n",
       "      <th>2</th>\n",
       "      <td>Jun 25, 2021</td>\n",
       "      <td>Jun</td>\n",
       "      <td>Fri</td>\n",
       "      <td>2068.85</td>\n",
       "      <td>2084.35</td>\n",
       "      <td>2088.50</td>\n",
       "      <td>2053.10</td>\n",
       "      <td>475.82K</td>\n",
       "      <td>-0.0020</td>\n",
       "    </tr>\n",
       "    <tr>\n",
       "      <th>3</th>\n",
       "      <td>Jun 24, 2021</td>\n",
       "      <td>Jun</td>\n",
       "      <td>Thu</td>\n",
       "      <td>2072.95</td>\n",
       "      <td>2098.00</td>\n",
       "      <td>2098.00</td>\n",
       "      <td>2066.00</td>\n",
       "      <td>541.51K</td>\n",
       "      <td>-0.0026</td>\n",
       "    </tr>\n",
       "    <tr>\n",
       "      <th>4</th>\n",
       "      <td>Jun 23, 2021</td>\n",
       "      <td>Jun</td>\n",
       "      <td>Wed</td>\n",
       "      <td>2078.25</td>\n",
       "      <td>2102.00</td>\n",
       "      <td>2111.40</td>\n",
       "      <td>2072.00</td>\n",
       "      <td>809.62K</td>\n",
       "      <td>-0.0023</td>\n",
       "    </tr>\n",
       "  </tbody>\n",
       "</table>\n",
       "</div>"
      ],
      "text/plain": [
       "           Date Month  Day    Price     Open     High      Low   Volume  \\\n",
       "0  Jun 29, 2021   Jun  Tue  2081.85  2092.00  2126.90  2065.05    1.67M   \n",
       "1  Jun 28, 2021   Jun  Mon  2077.75  2084.00  2112.45  2068.40  707.73K   \n",
       "2  Jun 25, 2021   Jun  Fri  2068.85  2084.35  2088.50  2053.10  475.82K   \n",
       "3  Jun 24, 2021   Jun  Thu  2072.95  2098.00  2098.00  2066.00  541.51K   \n",
       "4  Jun 23, 2021   Jun  Wed  2078.25  2102.00  2111.40  2072.00  809.62K   \n",
       "\n",
       "     Chg%  \n",
       "0  0.0020  \n",
       "1  0.0043  \n",
       "2 -0.0020  \n",
       "3 -0.0026  \n",
       "4 -0.0023  "
      ]
     },
     "execution_count": 12,
     "metadata": {},
     "output_type": "execute_result"
    }
   ],
   "source": [
    "df1.head()"
   ]
  },
  {
   "cell_type": "code",
   "execution_count": 13,
   "metadata": {},
   "outputs": [
    {
     "data": {
      "text/plain": [
       "1550.7060000000001"
      ]
     },
     "execution_count": 13,
     "metadata": {},
     "output_type": "execute_result"
    }
   ],
   "source": [
    "df1[df1['Day']=='Wed'].get('Price').mean()"
   ]
  },
  {
   "cell_type": "code",
   "execution_count": 14,
   "metadata": {},
   "outputs": [
    {
     "data": {
      "text/html": [
       "<div>\n",
       "<style scoped>\n",
       "    .dataframe tbody tr th:only-of-type {\n",
       "        vertical-align: middle;\n",
       "    }\n",
       "\n",
       "    .dataframe tbody tr th {\n",
       "        vertical-align: top;\n",
       "    }\n",
       "\n",
       "    .dataframe thead th {\n",
       "        text-align: right;\n",
       "    }\n",
       "</style>\n",
       "<table border=\"1\" class=\"dataframe\">\n",
       "  <thead>\n",
       "    <tr style=\"text-align: right;\">\n",
       "      <th></th>\n",
       "      <th>Date</th>\n",
       "      <th>Month</th>\n",
       "      <th>Day</th>\n",
       "      <th>Price</th>\n",
       "      <th>Open</th>\n",
       "      <th>High</th>\n",
       "      <th>Low</th>\n",
       "      <th>Volume</th>\n",
       "      <th>Chg%</th>\n",
       "    </tr>\n",
       "  </thead>\n",
       "  <tbody>\n",
       "    <tr>\n",
       "      <th>0</th>\n",
       "      <td>Jun 29, 2021</td>\n",
       "      <td>Jun</td>\n",
       "      <td>Tue</td>\n",
       "      <td>2081.85</td>\n",
       "      <td>2092.00</td>\n",
       "      <td>2126.90</td>\n",
       "      <td>2065.05</td>\n",
       "      <td>1.67M</td>\n",
       "      <td>0.0020</td>\n",
       "    </tr>\n",
       "    <tr>\n",
       "      <th>1</th>\n",
       "      <td>Jun 28, 2021</td>\n",
       "      <td>Jun</td>\n",
       "      <td>Mon</td>\n",
       "      <td>2077.75</td>\n",
       "      <td>2084.00</td>\n",
       "      <td>2112.45</td>\n",
       "      <td>2068.40</td>\n",
       "      <td>707.73K</td>\n",
       "      <td>0.0043</td>\n",
       "    </tr>\n",
       "    <tr>\n",
       "      <th>2</th>\n",
       "      <td>Jun 25, 2021</td>\n",
       "      <td>Jun</td>\n",
       "      <td>Fri</td>\n",
       "      <td>2068.85</td>\n",
       "      <td>2084.35</td>\n",
       "      <td>2088.50</td>\n",
       "      <td>2053.10</td>\n",
       "      <td>475.82K</td>\n",
       "      <td>-0.0020</td>\n",
       "    </tr>\n",
       "    <tr>\n",
       "      <th>3</th>\n",
       "      <td>Jun 24, 2021</td>\n",
       "      <td>Jun</td>\n",
       "      <td>Thu</td>\n",
       "      <td>2072.95</td>\n",
       "      <td>2098.00</td>\n",
       "      <td>2098.00</td>\n",
       "      <td>2066.00</td>\n",
       "      <td>541.51K</td>\n",
       "      <td>-0.0026</td>\n",
       "    </tr>\n",
       "    <tr>\n",
       "      <th>4</th>\n",
       "      <td>Jun 23, 2021</td>\n",
       "      <td>Jun</td>\n",
       "      <td>Wed</td>\n",
       "      <td>2078.25</td>\n",
       "      <td>2102.00</td>\n",
       "      <td>2111.40</td>\n",
       "      <td>2072.00</td>\n",
       "      <td>809.62K</td>\n",
       "      <td>-0.0023</td>\n",
       "    </tr>\n",
       "    <tr>\n",
       "      <th>...</th>\n",
       "      <td>...</td>\n",
       "      <td>...</td>\n",
       "      <td>...</td>\n",
       "      <td>...</td>\n",
       "      <td>...</td>\n",
       "      <td>...</td>\n",
       "      <td>...</td>\n",
       "      <td>...</td>\n",
       "      <td>...</td>\n",
       "    </tr>\n",
       "    <tr>\n",
       "      <th>244</th>\n",
       "      <td>Jul 07, 2020</td>\n",
       "      <td>Jul</td>\n",
       "      <td>Tue</td>\n",
       "      <td>1397.40</td>\n",
       "      <td>1410.00</td>\n",
       "      <td>1411.00</td>\n",
       "      <td>1390.05</td>\n",
       "      <td>480.21K</td>\n",
       "      <td>-0.0024</td>\n",
       "    </tr>\n",
       "    <tr>\n",
       "      <th>245</th>\n",
       "      <td>Jul 06, 2020</td>\n",
       "      <td>Jul</td>\n",
       "      <td>Mon</td>\n",
       "      <td>1400.75</td>\n",
       "      <td>1405.50</td>\n",
       "      <td>1415.50</td>\n",
       "      <td>1394.00</td>\n",
       "      <td>614.93K</td>\n",
       "      <td>-0.0031</td>\n",
       "    </tr>\n",
       "    <tr>\n",
       "      <th>246</th>\n",
       "      <td>Jul 03, 2020</td>\n",
       "      <td>Jul</td>\n",
       "      <td>Fri</td>\n",
       "      <td>1405.10</td>\n",
       "      <td>1415.00</td>\n",
       "      <td>1425.00</td>\n",
       "      <td>1398.00</td>\n",
       "      <td>599.49K</td>\n",
       "      <td>-0.0051</td>\n",
       "    </tr>\n",
       "    <tr>\n",
       "      <th>247</th>\n",
       "      <td>Jul 02, 2020</td>\n",
       "      <td>Jul</td>\n",
       "      <td>Thu</td>\n",
       "      <td>1412.35</td>\n",
       "      <td>1440.00</td>\n",
       "      <td>1467.80</td>\n",
       "      <td>1395.30</td>\n",
       "      <td>2.16M</td>\n",
       "      <td>0.0362</td>\n",
       "    </tr>\n",
       "    <tr>\n",
       "      <th>248</th>\n",
       "      <td>Jul 01, 2020</td>\n",
       "      <td>Jul</td>\n",
       "      <td>Wed</td>\n",
       "      <td>1363.05</td>\n",
       "      <td>1363.65</td>\n",
       "      <td>1377.00</td>\n",
       "      <td>1356.00</td>\n",
       "      <td>383.00K</td>\n",
       "      <td>0.0032</td>\n",
       "    </tr>\n",
       "  </tbody>\n",
       "</table>\n",
       "<p>249 rows × 9 columns</p>\n",
       "</div>"
      ],
      "text/plain": [
       "             Date Month  Day    Price     Open     High      Low   Volume  \\\n",
       "0    Jun 29, 2021   Jun  Tue  2081.85  2092.00  2126.90  2065.05    1.67M   \n",
       "1    Jun 28, 2021   Jun  Mon  2077.75  2084.00  2112.45  2068.40  707.73K   \n",
       "2    Jun 25, 2021   Jun  Fri  2068.85  2084.35  2088.50  2053.10  475.82K   \n",
       "3    Jun 24, 2021   Jun  Thu  2072.95  2098.00  2098.00  2066.00  541.51K   \n",
       "4    Jun 23, 2021   Jun  Wed  2078.25  2102.00  2111.40  2072.00  809.62K   \n",
       "..            ...   ...  ...      ...      ...      ...      ...      ...   \n",
       "244  Jul 07, 2020   Jul  Tue  1397.40  1410.00  1411.00  1390.05  480.21K   \n",
       "245  Jul 06, 2020   Jul  Mon  1400.75  1405.50  1415.50  1394.00  614.93K   \n",
       "246  Jul 03, 2020   Jul  Fri  1405.10  1415.00  1425.00  1398.00  599.49K   \n",
       "247  Jul 02, 2020   Jul  Thu  1412.35  1440.00  1467.80  1395.30    2.16M   \n",
       "248  Jul 01, 2020   Jul  Wed  1363.05  1363.65  1377.00  1356.00  383.00K   \n",
       "\n",
       "       Chg%  \n",
       "0    0.0020  \n",
       "1    0.0043  \n",
       "2   -0.0020  \n",
       "3   -0.0026  \n",
       "4   -0.0023  \n",
       "..      ...  \n",
       "244 -0.0024  \n",
       "245 -0.0031  \n",
       "246 -0.0051  \n",
       "247  0.0362  \n",
       "248  0.0032  \n",
       "\n",
       "[249 rows x 9 columns]"
      ]
     },
     "execution_count": 14,
     "metadata": {},
     "output_type": "execute_result"
    }
   ],
   "source": [
    "x=pd.read_excel(\"Lab Session Data.xlsx\",sheet_name='IRCTC Stock Price')\n",
    "x"
   ]
  },
  {
   "cell_type": "code",
   "execution_count": 15,
   "metadata": {},
   "outputs": [
    {
     "name": "stderr",
     "output_type": "stream",
     "text": [
      "C:\\Users\\year4\\AppData\\Local\\Temp\\ipykernel_16280\\3791599204.py:1: FutureWarning: The default value of numeric_only in DataFrame.mean is deprecated. In a future version, it will default to False. In addition, specifying 'numeric_only=None' is deprecated. Select only valid columns or specify the value of numeric_only to silence this warning.\n",
      "  x.mean()\n"
     ]
    },
    {
     "data": {
      "text/plain": [
       "Price    1560.663454\n",
       "Open     1560.965462\n",
       "High     1586.130522\n",
       "Low      1538.742771\n",
       "Chg%        0.001964\n",
       "dtype: float64"
      ]
     },
     "execution_count": 15,
     "metadata": {},
     "output_type": "execute_result"
    }
   ],
   "source": [
    "x.mean()"
   ]
  },
  {
   "cell_type": "code",
   "execution_count": 16,
   "metadata": {},
   "outputs": [
    {
     "data": {
      "text/plain": [
       "1560.6634538152612"
      ]
     },
     "execution_count": 16,
     "metadata": {},
     "output_type": "execute_result"
    }
   ],
   "source": [
    "a_data = df1[df1['Month'] == 'Apr']\n",
    "a_mean = a_data['Price'].mean()\n",
    "a_mean\n",
    "# COMpare\n",
    "population_price_mean = df1['Price'].mean()\n",
    "population_price_mean"
   ]
  },
  {
   "cell_type": "code",
   "execution_count": 17,
   "metadata": {},
   "outputs": [
    {
     "data": {
      "text/plain": [
       "0.42105263157894735"
      ]
     },
     "execution_count": 17,
     "metadata": {},
     "output_type": "execute_result"
    }
   ],
   "source": [
    "LOSS = a_data['Chg%'].apply(lambda x: 1 if x < 0 else 0).mean()\n",
    "LOSS"
   ]
  },
  {
   "cell_type": "code",
   "execution_count": 18,
   "metadata": {},
   "outputs": [
    {
     "data": {
      "text/plain": [
       "Text(0.5, 1.0, 'Change Vs Day')"
      ]
     },
     "execution_count": 18,
     "metadata": {},
     "output_type": "execute_result"
    },
    {
     "data": {
      "image/png": "[encoded data removed]",
      "text/plain": [
       "<Figure size 640x480 with 1 Axes>"
      ]
     },
     "metadata": {},
     "output_type": "display_data"
    }
   ],
   "source": [
    "import seaborn as sns\n",
    "import matplotlib.pyplot as plt\n",
    "df3=pd.read_excel('Lab Session Data.xlsx',sheet_name='IRCTC Stock Price')\n",
    "df3['Change'] = df3['Chg%'].apply(lambda x: float(str(x).rstrip('%')) if pd.notnull(x) else x)\n",
    "sns.scatterplot(x='Change',y='Day',data=df3)\n",
    "plt.title('Change Vs Day')\n",
    "\n"
   ]
  },
  {
   "cell_type": "markdown",
   "metadata": {},
   "source": [
    "## Conditional probability"
   ]
  },
  {
   "cell_type": "code",
   "execution_count": 19,
   "metadata": {},
   "outputs": [
    {
     "name": "stdout",
     "output_type": "stream",
     "text": [
      "249\n"
     ]
    },
    {
     "data": {
      "text/plain": [
       "0.42"
      ]
     },
     "execution_count": 19,
     "metadata": {},
     "output_type": "execute_result"
    }
   ],
   "source": [
    "x=len(df1)\n",
    "print(x)\n",
    "total_wednesdays=len(df3[(df3['Day'] == 'Wed')])\n",
    "y=df3[(df3['Day'] == 'Wed') & (df3['Change']>0)]\n",
    "probability_wednesday=(len(y)/total_wednesdays)\n",
    "probability_wednesday"
   ]
  },
  {
   "cell_type": "markdown",
   "metadata": {},
   "source": [
    "## Probability"
   ]
  },
  {
   "cell_type": "code",
   "execution_count": 20,
   "metadata": {},
   "outputs": [
    {
     "data": {
      "text/plain": [
       "0.08433734939759036"
      ]
     },
     "execution_count": 20,
     "metadata": {},
     "output_type": "execute_result"
    }
   ],
   "source": [
    "probability_wedd_profit = len(df3[(df3['Day'] == 'Wed') & (df3['Change'] > 0)])\n",
    "x=len(df3)\n",
    "x\n",
    "probability_wedd_profit/x\n"
   ]
  }
 ],
 "metadata": {
  "kernelspec": {
   "display_name": "Python 3 (ipykernel)",
   "language": "python",
   "name": "python3"
  },
  "language_info": {
   "codemirror_mode": {
    "name": "ipython",
    "version": 3
   },
   "file_extension": ".py",
   "mimetype": "text/x-python",
   "name": "python",
   "nbconvert_exporter": "python",
   "pygments_lexer": "ipython3",
   "version": "3.11.4"
  }
 },
 "nbformat": 4,
 "nbformat_minor": 2
}
