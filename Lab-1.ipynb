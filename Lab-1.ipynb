{
 "cells": [
  {
   "cell_type": "code",
   "execution_count": 1,
   "id": "88433376",
   "metadata": {},
   "outputs": [
    {
     "name": "stdout",
     "output_type": "stream",
     "text": [
      "Lab-1\n"
     ]
    }
   ],
   "source": [
    "print(\"Lab-1\")"
   ]
  },
  {
   "cell_type": "code",
   "execution_count": null,
   "id": "c9e3b340",
   "metadata": {},
   "outputs": [],
   "source": [
    "def isvowel(char):\n",
    "    vowels ='aeiouAEIOU'\n",
    "    return char in vowels\n",
    "def counting(string):\n",
    "    number_of_vowels = 0\n",
    "    number_of_consonants = 0\n",
    "    for char in string:\n",
    "            if isvowel(char):\n",
    "                number_of_vowels += 1\n",
    "            else:\n",
    "                number_of_consonants += 1\n",
    "    return number_of_vowels, number_of_consonants\n",
    "string = input(\"enter the string\")\n",
    "vowels, consonants = counting(string)\n",
    "print(f\"Number of vowels: {vowels}\")\n",
    "print(f\"Number of consonants: {consonants}\")"
   ]
  },
  {
   "cell_type": "code",
   "execution_count": null,
   "id": "677d5236",
   "metadata": {},
   "outputs": [],
   "source": [
    "def construct_matrix(rows, columns):\n",
    "    matrix = []\n",
    "    for i in range(rows):\n",
    "        matrix_row = []\n",
    "        for j in range(columns):\n",
    "            element = int(input(f'Enter element for row {i+1} and column {j+1}: '))\n",
    "            matrix_row.append(element)\n",
    "        matrix.append(matrix_row)\n",
    "    return matrix\n",
    "def matrix_multiplication(matrix_a, matrix_b):\n",
    "    rows_A = len(matrix_a)\n",
    "    columns_A = len(matrix_a[0])\n",
    "    rows_B = len(matrix_b)\n",
    "    columns_B = len(matrix_b[0])\n",
    "    result_matrix = [[0] * columns_B for ele in range(rows_A)] \n",
    "    for i in range(rows_A):\n",
    "        for j in range(columns_B):\n",
    "            result_matrix[i][j] = sum(matrix_a[i][k] * matrix_b[k][j] for k in range(columns_A))\n",
    "    return result_matrix\n",
    "rows_A = int(input('Enter number of rows for matrix A: '))\n",
    "columns_A = int(input('Enter number of columns for matrix A: '))\n",
    "rows_B = int(input('Enter number of rows for matrix B: '))\n",
    "columns_B = int(input('Enter number of columns for matrix B: '))\n",
    "if columns_A != rows_B:\n",
    "    print('Error: Multiplication is not possible')\n",
    "    exit()\n",
    "print('Enter elements for Matrix A:')\n",
    "matrix_a = construct_matrix(rows_A, columns_A)\n",
    "print('Enter elements for Matrix B:')\n",
    "matrix_b = construct_matrix(rows_B, columns_B)\n",
    "print('Input Matrix A: ')\n",
    "for i in range(rows_A):\n",
    "    for j in range(columns_A):\n",
    "        print(matrix_a[i][j], end = \" \")\n",
    "    print()\n",
    "print('Input Matrix B: ')\n",
    "for i in range(rows_B):\n",
    "    for j in range(columns_B):\n",
    "        print(matrix_b[i][j], end = \" \")\n",
    "    print()\n",
    "result_matrix = matrix_multiplication(matrix_a, matrix_b)\n",
    "print('Result Matrix: ')\n",
    "for i in range(rows_A):\n",
    "    for j in range(columns_B):\n",
    "        print(result_matrix[i][j], end = \" \")\n",
    "    print()"
   ]
  },
  {
   "cell_type": "code",
   "execution_count": null,
   "id": "5aa4a4c6",
   "metadata": {},
   "outputs": [],
   "source": [
    "def input_list():\n",
    "    result = []\n",
    "    i = 0\n",
    "    while True:\n",
    "        user_input = input(f'Enter element {i+1} (or type \"exit\" to finish): ')\n",
    "        if user_input.lower() == \"exit\":\n",
    "            break\n",
    "        try:\n",
    "            element = int(user_input)\n",
    "            result.append(element)\n",
    "            i += 1\n",
    "        except ValueError:\n",
    "            print(\"Please enter a valid integer or 'exit' to finish.\")\n",
    "    return result\n",
    "def common_count(list_a, list_b):\n",
    "    count = 0\n",
    "    for ele_a in list_a:\n",
    "        if ele_a in list_b:\n",
    "            count += 1\n",
    "            list_b.remove(ele_a)\n",
    "    return count\n",
    "print('Enter elements for the first list:')\n",
    "list_a = input_list()\n",
    "print('Enter elements for the second list:')\n",
    "list_b = input_list()\n",
    "common_ele_count = common_count(list_a, list_b)\n",
    "print(f'Number of common elements: {common_ele_count}')\n"
   ]
  },
  {
   "cell_type": "code",
   "execution_count": null,
   "id": "204b39ae",
   "metadata": {},
   "outputs": [],
   "source": [
    "def construct_matrix(rows,columns,matrix):\n",
    "  for i in range(rows):\n",
    "    matrix_row = []\n",
    "    for j in range(columns):\n",
    "      element = int(input(f'Enter element for row {i+1} and column {j+1}: '))\n",
    "      matrix_row.append(element)\n",
    "    matrix.append(matrix_row)\n",
    "def transposes_matrix(matrix,rows,columns,transpose_matrix):\n",
    "  for i in range(columns):\n",
    "    transpose_matrix_row = []\n",
    "    for j in range(rows):\n",
    "      transpose_matrix_row.append(matrix[j][i])\n",
    "    transpose_matrix.append(transpose_matrix_row)\n",
    "rows = int(input('Enter number of rows: '))\n",
    "columns = int(input('Enter number of columns: '))\n",
    "matrix = []\n",
    "construct_matrix(rows,columns,matrix)\n",
    "print('Input Matrix: ')\n",
    "for i in range(rows):\n",
    "    \n",
    "    for j in range(columns):\n",
    "        print(matrix[i][j], end = \" \")\n",
    "    print()\n",
    "transpose_matrix = []\n",
    "transposes_matrix(matrix,rows,columns,transpose_matrix)\n",
    "print('Transpose Matrix: ')\n",
    "for i in range(rows):\n",
    "    for j in range(columns):\n",
    "        print(transpose_matrix[i][j], end = \" \")\n",
    "    print()"
   ]
  }
 ],
 "metadata": {
  "kernelspec": {
   "display_name": "Python 3 (ipykernel)",
   "language": "python",
   "name": "python3"
  },
  "language_info": {
   "codemirror_mode": {
    "name": "ipython",
    "version": 3
   },
   "file_extension": ".py",
   "mimetype": "text/x-python",
   "name": "python",
   "nbconvert_exporter": "python",
   "pygments_lexer": "ipython3",
   "version": "3.9.13"
  }
 },
 "nbformat": 4,
 "nbformat_minor": 5
}
